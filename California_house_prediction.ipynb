{
 "cells": [
  {
   "cell_type": "code",
   "execution_count": 23,
   "id": "f0ef40cd-6d97-4f39-8d71-3cf4c32fbc23",
   "metadata": {},
   "outputs": [
    {
     "name": "stdout",
     "output_type": "stream",
     "text": [
      "   MedInc  HouseAge  AveRooms  AveBedrms  Population  AveOccup  Latitude  Longitude  Target (HouseValue)\n",
      "0  8.3252      41.0  6.984127   1.023810       322.0  2.555556     37.88    -122.23                4.526\n",
      "1  8.3014      21.0  6.238137   0.971880      2401.0  2.109842     37.86    -122.22                3.585\n",
      "2  7.2574      52.0  8.288136   1.073446       496.0  2.802260     37.85    -122.24                3.521\n",
      "3  5.6431      52.0  5.817352   1.073059       558.0  2.547945     37.85    -122.25                3.413\n",
      "4  3.8462      52.0  6.281853   1.081081       565.0  2.181467     37.85    -122.25                3.422\n"
     ]
    }
   ],
   "source": [
    "from sklearn.datasets import fetch_california_housing\n",
    "import numpy as np\n",
    "import pandas as pd\n",
    "import matplotlib.pyplot as plt \n",
    "from sklearn.linear_model import LinearRegression\n",
    "\n",
    "# Load dataset\n",
    "data = fetch_california_housing()\n",
    "\n",
    "# Convert to pandas DataFrame\n",
    "x = pd.DataFrame(data.data, columns=data.feature_names)\n",
    "y = pd.Series(data.target, name='Target (HouseValue)')\n",
    "\n",
    "x = np.array(x)\n",
    "y = np.array(y)\n",
    "\n",
    "\n",
    "\n",
    "# Display the first few rows\n",
    "pd.set_option('display.max_columns', None)\n",
    "pd.set_option('display.width', 1000)\n",
    "print(df.head())"
   ]
  },
  {
   "cell_type": "markdown",
   "id": "cf02e5a9-3af9-4d88-aeb8-376c02ad0dca",
   "metadata": {},
   "source": [
    "## normalise"
   ]
  },
  {
   "cell_type": "code",
   "execution_count": 24,
   "id": "6859c94e-7d74-4d56-98cb-b325307fa82e",
   "metadata": {},
   "outputs": [],
   "source": [
    "def normalise(x):\n",
    "    mu = np.mean(x, axis = 0)\n",
    "    sigma = np.std(x, axis = 0)\n",
    "\n",
    "    x = (x - mu)/sigma \n",
    "\n",
    "    return x, sigma, mu"
   ]
  },
  {
   "cell_type": "markdown",
   "id": "106913a4-a27c-4198-a9b3-20fe223a71ae",
   "metadata": {},
   "source": [
    "## cost"
   ]
  },
  {
   "cell_type": "code",
   "execution_count": 30,
   "id": "2c304cfc-6416-4c26-9afc-251425d44ae2",
   "metadata": {},
   "outputs": [],
   "source": [
    "# def compute_cost(x,y,w,b):\n",
    "#     cost = 0\n",
    "#     m = len(y)\n",
    "\n",
    "#     for i in range(m):\n",
    "#         f_wb = np.dot(x[i], w) + b\n",
    "#         cost = (f_wb - y[i]) **2\n",
    "#     cost /= m\n",
    "#     return cost\n",
    "\n",
    "# def compute_cost(X, y, w, b):\n",
    "#     m = len(y)\n",
    "#     cost = 0\n",
    "#     for i in range(m):\n",
    "#         f_wb = np.dot(X[i], w) + b\n",
    "#         cost += (f_wb - y[i]) ** 2\n",
    "#     return cost / (2 * m)\n",
    "\n",
    "def compute_cost(x, y, w, b):\n",
    "    m = len(y)\n",
    "    f_wb = np.dot(x, w) + b\n",
    "    cost = (1 / (2 * m)) * np.sum((f_wb - y) ** 2)\n",
    "    return cost"
   ]
  },
  {
   "cell_type": "markdown",
   "id": "e1dc4ca0-5b54-4e5f-bc1e-358991afd0ce",
   "metadata": {},
   "source": [
    "## gradient descent"
   ]
  },
  {
   "cell_type": "code",
   "execution_count": 31,
   "id": "4b30806a-e817-4f21-b348-c9b1a02e42f1",
   "metadata": {},
   "outputs": [],
   "source": [
    "def gradient_descent(x,y,w,b,alpha,iterations):\n",
    "    m = len(y)\n",
    "    cost_history = []\n",
    "    dj_dw = 0\n",
    "    dj_db = 0\n",
    "    for i in range(iterations):\n",
    "        f_wb = np.dot(x,w) + b\n",
    "        error = f_wb - y\n",
    "\n",
    "        dj_dw = (1/m) * (np.dot(x.T, error))\n",
    "        dj_db = (1/m) * (sum(error))\n",
    "\n",
    "        w -= alpha * dj_dw\n",
    "        b -= alpha * dj_db\n",
    "\n",
    "        cost = compute_cost(x,y,w,b)\n",
    "        cost_history.append(cost)\n",
    "\n",
    "    return w,b,cost_history "
   ]
  },
  {
   "cell_type": "markdown",
   "id": "536875ef-ae6a-4789-9efe-051348596ce8",
   "metadata": {},
   "source": [
    "## train the data"
   ]
  },
  {
   "cell_type": "code",
   "execution_count": 44,
   "id": "99ef3923-de31-45e0-8b2d-40e97258495d",
   "metadata": {},
   "outputs": [
    {
     "name": "stdout",
     "output_type": "stream",
     "text": [
      "------------------[ 0.78940019  0.19408617 -0.03203817  0.03904684  0.02037514 -0.04394366\n",
      " -0.33689055 -0.29492156] and 2.0592380477493144-----------------\n"
     ]
    }
   ],
   "source": [
    "x_norm, sigma, mu = normalise(x)\n",
    "\n",
    "w = np.zeros(x.shape[1]) \n",
    "b = 0\n",
    "alpha = 0.0009\n",
    "iterations = 6000\n",
    "\n",
    "w_final, b_final, cost_history = gradient_descent(x_norm,y,w,b,alpha,iterations)\n",
    "\n",
    "print(f\"------------------{w_final} and {b_final}-----------------\")"
   ]
  },
  {
   "cell_type": "code",
   "execution_count": 45,
   "id": "08b6b54b-1009-4716-877c-bb72f0724584",
   "metadata": {},
   "outputs": [
    {
     "name": "stdout",
     "output_type": "stream",
     "text": [
      "------model prediction [ 0.8296193   0.11875165 -0.26552688  0.30569623 -0.004503   -0.03932627\n",
      " -0.89988565 -0.870541  ] and 2.0685581690891386 \n"
     ]
    }
   ],
   "source": [
    "model = LinearRegression()\n",
    "\n",
    "model.fit(x_norm, y)\n",
    "\n",
    "print(f\"------model prediction {model.coef_} and {model.intercept_} \")"
   ]
  },
  {
   "cell_type": "code",
   "execution_count": 46,
   "id": "48606840-c44a-47d4-ba34-9f62d9b0c036",
   "metadata": {},
   "outputs": [
    {
     "data": {
      "image/png": "[encoded data removed]",
      "text/plain": [
       "<Figure size 640x480 with 1 Axes>"
      ]
     },
     "metadata": {},
     "output_type": "display_data"
    }
   ],
   "source": [
    "plt.plot(cost_history)\n",
    "plt.grid(True)\n",
    "plt.xlabel('Iterations')\n",
    "plt.ylabel('cost')\n",
    "plt.show()"
   ]
  },
  {
   "cell_type": "markdown",
   "id": "aa653979-eb0c-4108-8312-48ffe408f60d",
   "metadata": {},
   "source": [
    "## compare predictions "
   ]
  },
  {
   "cell_type": "code",
   "execution_count": 48,
   "id": "50965371-fcce-43ef-88a8-247782f47526",
   "metadata": {},
   "outputs": [
    {
     "name": "stdout",
     "output_type": "stream",
     "text": [
      "MAE: 0.18369427783150385\n",
      "MSE: 0.05816323338275291\n"
     ]
    }
   ],
   "source": [
    "from sklearn.linear_model import LinearRegression\n",
    "from sklearn.metrics import mean_squared_error, mean_absolute_error\n",
    "\n",
    "# Custom predictions\n",
    "y_pred_gd = np.dot(x_norm, w_final) + b_final\n",
    "\n",
    "# Sklearn predictions\n",
    "model = LinearRegression()\n",
    "model.fit(x_norm, y)\n",
    "y_pred_sklearn = model.predict(x_norm)\n",
    "\n",
    "print(\"MAE:\", mean_absolute_error(y_pred_sklearn, y_pred_gd))\n",
    "print(\"MSE:\", mean_squared_error(y_pred_sklearn, y_pred_gd))\n"
   ]
  },
  {
   "cell_type": "markdown",
   "id": "f5481951-69f3-4cd3-bf0c-3afecc5f4502",
   "metadata": {},
   "source": [
    "## HOUSE PRIDICTION "
   ]
  },
  {
   "cell_type": "code",
   "execution_count": 54,
   "id": "65762374-567a-4347-a5f8-92931c9f9800",
   "metadata": {},
   "outputs": [
    {
     "name": "stdout",
     "output_type": "stream",
     "text": [
      "Enter the features of the new house.\n",
      "Example:\n",
      "4.0     # Median income\n",
      "20.0    # House age\n",
      "5.0     # Average rooms\n",
      "1.0     # Average bedrooms\n",
      "500.0   # Population\n",
      "2.0     # Average occupancy\n",
      "34.2    # Latitude(~32 to ~42)\n",
      "118.4   # Longitude(~-124 to ~-114)\n",
      "\n"
     ]
    },
    {
     "name": "stdin",
     "output_type": "stream",
     "text": [
      "Median Income (10,000s):  6\n",
      "House Age:  64\n",
      "Average Rooms:  85\n",
      "Average Bedrooms:  64\n",
      "Population:  757\n",
      "Average Occupancy:  7\n",
      "Latitude(~32 to ~42):  33\n",
      "Longitude(~-124 to ~-114):  -120\n"
     ]
    },
    {
     "name": "stdout",
     "output_type": "stream",
     "text": [
      "\n",
      "📊 Predicted Median House Price: $809,166.09\n"
     ]
    }
   ],
   "source": [
    "import numpy as np\n",
    "\n",
    "# List of feature names in order\n",
    "feature_names = [\n",
    "    \"Median Income (10,000s)\",\n",
    "    \"House Age\",\n",
    "    \"Average Rooms\",\n",
    "    \"Average Bedrooms\",\n",
    "    \"Population\",\n",
    "    \"Average Occupancy\",\n",
    "    \"Latitude(~32 to ~42)\",\n",
    "    \"Longitude(~-124 to ~-114)\"\n",
    "]\n",
    "\n",
    "# Take input for each feature\n",
    "print(\"Enter the features of the new house.\")\n",
    "print(\"Example:\")\n",
    "print(\"4.0     # Median income\")\n",
    "print(\"20.0    # House age\")\n",
    "print(\"5.0     # Average rooms\")\n",
    "print(\"1.0     # Average bedrooms\")\n",
    "print(\"500.0   # Population\")\n",
    "print(\"2.0     # Average occupancy\")\n",
    "print(\"34.2    # Latitude(~32 to ~42)\")\n",
    "print(\"118.4   # Longitude(~-124 to ~-114)\\n\")\n",
    "\n",
    "new_house = []\n",
    "for name in feature_names:\n",
    "    value = float(input(f\"{name}: \"))\n",
    "    new_house.append(value)\n",
    "\n",
    "# Convert to numpy array and reshape\n",
    "new_house = np.array(new_house).reshape(1, -1)\n",
    "\n",
    "# Normalize input using your training mu and sigma\n",
    "new_house_norm = (new_house - mu) / sigma\n",
    "\n",
    "# Predict using your trained model\n",
    "predicted_value = np.dot(new_house_norm, w_final) + b_final\n",
    "predicted_price = predicted_value[0] * 100000\n",
    "\n",
    "# Output the result\n",
    "print(f\"\\n📊 Predicted Median House Price: ${predicted_price:,.2f}\")\n"
   ]
  },
  {
   "cell_type": "code",
   "execution_count": null,
   "id": "60ed5774-edd4-4337-92fd-d3ce0c3a83df",
   "metadata": {},
   "outputs": [],
   "source": []
  }
 ],
 "metadata": {
  "kernelspec": {
   "display_name": "Python 3 (ipykernel)",
   "language": "python",
   "name": "python3"
  },
  "language_info": {
   "codemirror_mode": {
    "name": "ipython",
    "version": 3
   },
   "file_extension": ".py",
   "mimetype": "text/x-python",
   "name": "python",
   "nbconvert_exporter": "python",
   "pygments_lexer": "ipython3",
   "version": "3.13.3"
  }
 },
 "nbformat": 4,
 "nbformat_minor": 5
}
